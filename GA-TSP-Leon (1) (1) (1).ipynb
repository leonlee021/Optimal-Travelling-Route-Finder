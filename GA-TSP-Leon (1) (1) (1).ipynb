{
 "cells": [
  {
   "cell_type": "code",
   "execution_count": 11,
   "metadata": {},
   "outputs": [],
   "source": [
    "import random  \n",
    "import math\n",
    "MIN_MUTATION_RATE=0.01\n",
    "MAX_DISTANCE_SUM=2000\n",
    "TSP_SIZE=9\n",
    "\n",
    "# Below are the distances between each of the ten locations that I plan to visit on my trip.\n",
    "# Location A is the first column and row, location B is the second column and row, etc. For example, 25km is the \n",
    "# distance between Location A and Location B, and 43km is the distance between Location A and Location C.\n",
    "mat = [[ 0, 25, 43, 57, 43, 61, 29, 41, 48, 71], \n",
    "       [ 25, 0, 29, 34, 43, 68, 49, 66, 72, 91], \n",
    "       [ 43, 29, 0, 52, 72, 96, 72, 81, 89,114], \n",
    "       [ 57, 34, 52, 0, 45, 71, 71, 95, 99,108], \n",
    "       [ 43, 43, 72, 45, 0, 27, 36, 65, 65, 65], \n",
    "       [ 61, 68, 96, 71, 27, 0, 40, 66, 62, 46], \n",
    "       [ 29, 49, 72, 71, 36, 40, 0, 31, 31, 43], \n",
    "       [ 41, 66, 81, 95, 65, 66, 31, 0, 11, 46], \n",
    "       [ 48, 72, 89, 99, 65, 62, 31, 11, 0, 36], \n",
    "       [ 71, 91,114,108, 65, 46, 43, 46, 36, 0]]\n",
    "\n",
    "# Calculating for the shortest path distance for a 'chromosome' in the genetic algorithm, or a travelling route in \n",
    "# this case.\n",
    "def TSP_distance (chromo):    \n",
    "    distance=mat[0][chromo[0]]\n",
    "    loc=0    \n",
    "    for gene in chromo:\n",
    "        distance = distance + mat[chromo[loc]][chromo[loc+1]]\n",
    "        loc=loc+1\n",
    "        if(loc==len(chromo)-1):\n",
    "            return(distance)\n",
    "\n",
    "# As the shorter the route is, the better, we subtract the TSP_distance from MAX_DISTANCE_SUM to attribute a greater\n",
    "# number to the better (which is the shorter) routes. The fitness function, fitnessftn, is a measure of how short the\n",
    "# route is.\n",
    "def fitnessftn (chromo):    \n",
    "    return(MAX_DISTANCE_SUM-TSP_distance(chromo))\n",
    "\n",
    "# Generating random travelling routes.\n",
    "def ran_seq(num): \n",
    "    alist=[]\n",
    "    for i in range(0,num):               \n",
    "        alist.append(new_rand_ele(num,alist))\n",
    "    return(alist)\n",
    "\n",
    "# Generating random numbers (or, locations to visit next) to append to the ran_seq above.\n",
    "def new_rand_ele(num, alist):\n",
    "    while 1:\n",
    "        gennum = int(random.random()*num+1)\n",
    "        if(ele_in_alist(gennum, alist)==0):\n",
    "            return(gennum)\n",
    "\n",
    "def ele_in_alist(num, alist):\n",
    "    for i in alist:\n",
    "        if(num==i):\n",
    "            return 1\n",
    "    return 0\n",
    "\n",
    "# Generating an initial population of routes, to then apply the genetic algorithm to.\n",
    "def init_population(num, size):\n",
    "    alist=[]\n",
    "    for i in range (0,size):\n",
    "        blist=ran_seq(num)\n",
    "        alist.append(blist)\n",
    "    return(alist)\n",
    "\n",
    "# Selecting random routes from the population for 'recombination' to produce 'offsprings'.\n",
    "# The greater the fitness function, the greater chance a route has of being selected. This is an imitation of the\n",
    "# survival of the fittest.\n",
    "def selection(population):\n",
    "    alist=[]\n",
    "    totfit=0\n",
    "    for chromo in population:\n",
    "        fit=fitnessftn(chromo)\n",
    "        totfit=totfit+fit\n",
    "        alist.append(fit)\n",
    "    randnum=random.random() # generating a random number, randnum\n",
    "    index=0\n",
    "    fitsum=0\n",
    "    for fit in alist:\n",
    "        fitsum=fitsum+fit       \n",
    "        if(randnum <fitsum/totfit):\n",
    "            break\n",
    "        index=index+1\n",
    "    return(population[index])\n",
    "    \n",
    "# We use a method called uniform order-based crossover to generate 'child' routes from two 'parent' \n",
    "# routes to generate a route with hopefully a greater fitness function.\n",
    "def uniform_order_based_crossover_with_mutation(paren1, paren2, rate):\n",
    "    template=[]\n",
    "    resul=[]\n",
    "    for i in range(0,len(paren1)):\n",
    "        template.append(int(random.random()*2))\n",
    "    index=0\n",
    "    child1=[]\n",
    "    child2=[]\n",
    "    rem1=[]\n",
    "    rem2=[]\n",
    "    for i in template:\n",
    "        if(i==1):\n",
    "            child1.append(paren1[index])\n",
    "            child2.append(paren2[index])            \n",
    "        else:\n",
    "            child1.append(0)\n",
    "            child2.append(0)\n",
    "            rem1.append(paren1[index])\n",
    "            rem2.append(paren2[index])\n",
    "        index=index+1\n",
    "    sublist1=sorted_sublist(rem1,paren2)\n",
    "    sublist2=sorted_sublist(rem2,paren1)\n",
    "    remindex=0\n",
    "    index=0\n",
    "    for i in child1:\n",
    "        if(i==0):\n",
    "            child1[index]=sublist1[remindex]\n",
    "            child2[index]=sublist2[remindex]\n",
    "            remindex=remindex+1\n",
    "        index=index+1\n",
    "    resul.append(per_mutation(child1,rate))\n",
    "    resul.append(per_mutation(child2,rate))\n",
    "    return(resul)\n",
    "\n",
    "def sorted_sublist(small,large):\n",
    "    alist=[]\n",
    "    for i in large:\n",
    "        if(ele_in_alist(i, small)==1):\n",
    "            alist.append(i)\n",
    "    return(alist)\n",
    "\n",
    "def GA_TSP(pop_size,num_gen, mutation_rate, elite_num): # Genetic Algorithm _ The Shortest Path\n",
    "    # Population size (the number of routes to produce every generation), the number of generatons, the mutation\n",
    "    # rate, and the number of 'elite chromosomes' to pass on (a certain number of the shortest routes are \n",
    "    # automatically passed onto the next generation)\n",
    "    old_gen=init_population(TSP_SIZE,pop_size)  \n",
    "    best_route=best_chro(old_gen)  # Finding the best 'chromosome' and attributing it to best_route.\n",
    "    print(\"Avg Fit of Gen 0\", total_fitness(old_gen)/pop_size)    # Finding the average fitness score of the \n",
    "    # first 'generation' of routes generated.\n",
    "    print(\"Gen 0 Best Route Fitness\",fitnessftn(best_route),best_route) #Finding the best fitness score out of the\n",
    "    # first 'generation' of routes generated.\n",
    "    crossoverpairs_num= int((pop_size-elite_num)/2)  \n",
    "    best_avg_fit=total_fitness(old_gen)/pop_size\n",
    "    for j in range(0,num_gen):                \n",
    "        new_gen=[]\n",
    "        elites=[]\n",
    "        bbb=elite_chros_indices(old_gen,elite_num)        \n",
    "        for i in bbb:\n",
    "            new_gen.append(old_gen[i])\n",
    "        for i in range(0,crossoverpairs_num):        \n",
    "            crossovered=uniform_order_based_crossover_with_mutation(selection(old_gen),selection(old_gen),mutation_rate)\n",
    "            new_gen.extend(crossovered)\n",
    "        best_route_new_gen=best_chro(new_gen)\n",
    "        if(fitnessftn(best_route_new_gen)>fitnessftn(best_route)):\n",
    "            best_route=best_route_new_gen\n",
    "            print(\"Gen\", j+1,\"Best Route Fitness\",fitnessftn(best_route),best_route)\n",
    "        avg_fit=total_fitness(new_gen)/pop_size          \n",
    "        if(avg_fit>best_avg_fit):\n",
    "            best_avg_fit=avg_fit\n",
    "            print(\"Avg Fit of Gen \", j+1, \"=\",avg_fit) # print message everytime the best route fitness is improved\n",
    "            # across generations.\n",
    "        old_gen=new_gen\n",
    "    print(\"Gen\", j+1,\"Best Route Distance\",TSP_distance(best_route),best_route)\n",
    "    \n",
    "# Calculating for the total fitness score of a generation of routes.\n",
    "def total_fitness(population):\n",
    "    totfit=0\n",
    "    for chromo in population:\n",
    "        fit=fitnessftn(chromo)\n",
    "        totfit=totfit+fit\n",
    "    return(totfit)\n",
    "\n",
    "# Finding the best fitness score from a generation of routes.\n",
    "def best_chro(population):\n",
    "    MINFIT=-1000\n",
    "    best_index=0\n",
    "    index=0    \n",
    "    best_fit=MINFIT\n",
    "    for chromo in population:\n",
    "        fit=fitnessftn(chromo)\n",
    "        if(best_fit <fit):\n",
    "            best_index=index\n",
    "            best_fit=fit\n",
    "        index=index+1        \n",
    "    return(population[best_index])\n",
    "\n",
    "# Finding the index of the best chromosome in a population.\n",
    "def best_chro_index(alist,exceptlist):\n",
    "    MINFIT=-1000\n",
    "    best_index=0\n",
    "    index=0    \n",
    "    best_fit=MINFIT\n",
    "    for chromo in alist:\n",
    "        if(element_in_list(index,exceptlist)==1):\n",
    "            index=index+1\n",
    "            continue\n",
    "        fit=fitnessftn(chromo)\n",
    "        if(best_fit <fit):\n",
    "            best_index=index\n",
    "            best_fit=fit\n",
    "        index=index+1        \n",
    "    return(best_index)\n",
    "\n",
    "# Collecting the indicies of the best chromosomes, or the shortest routes, produced in a generation.\n",
    "def elite_chros_indices(alist,num):  \n",
    "    resul=[]    \n",
    "    for i in range(0,num):\n",
    "        best_index=best_chro_index(alist,resul)\n",
    "        resul.append(best_index)\n",
    "    return(resul)\n",
    "\n",
    "def element_in_list(ele,alist):\n",
    "    for i in alist:\n",
    "        if(ele==i):\n",
    "            return(1)\n",
    "    return(0)\n",
    "\n",
    "def per_mutation(alist, rate):\n",
    "    index=0    \n",
    "    listlen=len(alist)\n",
    "    firstele=alist[0]\n",
    "    secondele=alist[1]\n",
    "    blist=[]\n",
    "    for i in alist:    \n",
    "        if(index<listlen-1):\n",
    "            if(random.random()<rate):\n",
    "                blist.append(secondele)\n",
    "            else:\n",
    "                blist.append(firstele)\n",
    "                firstele=secondele\n",
    "        else:\n",
    "            break\n",
    "        index=index+1\n",
    "        if(index<listlen-1):\n",
    "            secondele=alist[index+1]\n",
    "        else:\n",
    "            break\n",
    "    if(random.random()<rate):\n",
    "        blist.append(blist[0])        \n",
    "        blist[0]=firstele\n",
    "    else:\n",
    "        blist.append(firstele)        \n",
    "    return(blist)"
   ]
  },
  {
   "cell_type": "code",
   "execution_count": 42,
   "metadata": {},
   "outputs": [
    {
     "data": {
      "text/plain": [
       "[1, 4, 2, 3, 5]"
      ]
     },
     "execution_count": 42,
     "metadata": {},
     "output_type": "execute_result"
    }
   ],
   "source": [
    "ran_seq(5)\n",
    "# Testing the ran_seq function."
   ]
  },
  {
   "cell_type": "code",
   "execution_count": 43,
   "metadata": {},
   "outputs": [
    {
     "data": {
      "text/plain": [
       "[[0, 25, 43, 57, 43, 61, 29, 41, 48, 71],\n",
       " [25, 0, 29, 34, 43, 68, 49, 66, 72, 91],\n",
       " [43, 29, 0, 52, 72, 96, 72, 81, 89, 114],\n",
       " [57, 34, 52, 0, 45, 71, 71, 95, 99, 108],\n",
       " [43, 43, 72, 45, 0, 27, 36, 65, 65, 65],\n",
       " [61, 68, 96, 71, 27, 0, 40, 66, 62, 46],\n",
       " [29, 49, 72, 71, 36, 40, 0, 31, 31, 43],\n",
       " [41, 66, 81, 95, 65, 66, 31, 0, 11, 46],\n",
       " [48, 72, 89, 99, 65, 62, 31, 11, 0, 36],\n",
       " [71, 91, 114, 108, 65, 46, 43, 46, 36, 0]]"
      ]
     },
     "execution_count": 43,
     "metadata": {},
     "output_type": "execute_result"
    }
   ],
   "source": [
    "mat"
   ]
  },
  {
   "cell_type": "code",
   "execution_count": 44,
   "metadata": {},
   "outputs": [],
   "source": [
    "chromosome1 = [1, 2, 3, 4, 5, 6, 7, 8, 9]\n",
    "chromosome2 = [1, 2, 6, 7, 8, 9, 3, 4, 5]\n",
    "chromosome3 = [9, 3, 4, 5, 1, 2, 6, 7, 8]\n",
    "# Test with three random 'chromosomes'. This is how a route would be formatted. \n",
    "# For example, chromosome3 is a route that starts from Location 9, then goes to 3, then goes to 4, etc."
   ]
  },
  {
   "cell_type": "code",
   "execution_count": 26,
   "metadata": {},
   "outputs": [
    {
     "name": "stdout",
     "output_type": "stream",
     "text": [
      "1704\n",
      "1616\n",
      "1538\n"
     ]
    }
   ],
   "source": [
    "print(fitnessftn(chromosome1))\n",
    "print(fitnessftn(chromosome2))\n",
    "print(fitnessftn(chromosome3))\n",
    "# These are the total distances that the travel would take using each of the routes. It can be seen that chromosome3\n",
    "# is the shortest route."
   ]
  },
  {
   "cell_type": "code",
   "execution_count": 24,
   "metadata": {},
   "outputs": [],
   "source": [
    "ipop=init_population(9,40)\n",
    "# Testing the init_population function to generate a population of routes."
   ]
  },
  {
   "cell_type": "code",
   "execution_count": 33,
   "metadata": {},
   "outputs": [
    {
     "data": {
      "text/plain": [
       "[[8, 2, 7, 1, 3, 9, 4, 5, 6],\n",
       " [5, 6, 9, 7, 8, 1, 2, 3, 4],\n",
       " [6, 8, 5, 9, 4, 1, 3, 7, 2],\n",
       " [4, 2, 8, 3, 7, 6, 1, 9, 5],\n",
       " [4, 8, 9, 3, 6, 5, 1, 2, 7],\n",
       " [4, 8, 9, 6, 7, 3, 1, 5, 2],\n",
       " [8, 2, 6, 9, 5, 3, 7, 1, 4],\n",
       " [7, 9, 1, 8, 3, 4, 5, 6, 2],\n",
       " [6, 1, 4, 3, 9, 8, 7, 2, 5],\n",
       " [5, 2, 3, 4, 8, 6, 1, 9, 7],\n",
       " [5, 9, 2, 3, 8, 7, 4, 6, 1],\n",
       " [8, 5, 1, 2, 3, 6, 4, 9, 7],\n",
       " [4, 5, 1, 2, 6, 8, 3, 7, 9],\n",
       " [1, 9, 4, 2, 6, 8, 7, 5, 3],\n",
       " [7, 8, 6, 9, 2, 4, 5, 3, 1],\n",
       " [4, 8, 9, 7, 5, 1, 6, 3, 2],\n",
       " [3, 6, 7, 1, 5, 8, 9, 2, 4],\n",
       " [9, 2, 1, 4, 6, 8, 5, 3, 7],\n",
       " [8, 9, 1, 6, 2, 3, 4, 7, 5],\n",
       " [2, 8, 7, 5, 9, 6, 4, 1, 3],\n",
       " [5, 3, 6, 7, 2, 8, 4, 9, 1],\n",
       " [6, 2, 1, 4, 7, 3, 9, 5, 8],\n",
       " [2, 4, 1, 8, 7, 6, 5, 9, 3],\n",
       " [3, 7, 8, 4, 2, 5, 9, 1, 6],\n",
       " [7, 6, 3, 4, 5, 8, 1, 2, 9],\n",
       " [3, 9, 7, 2, 5, 1, 6, 4, 8],\n",
       " [5, 3, 9, 4, 8, 1, 6, 7, 2],\n",
       " [9, 8, 2, 6, 1, 3, 5, 4, 7],\n",
       " [5, 1, 4, 9, 7, 3, 2, 6, 8],\n",
       " [7, 4, 9, 3, 5, 1, 8, 6, 2],\n",
       " [4, 5, 6, 2, 9, 8, 1, 3, 7],\n",
       " [5, 6, 8, 1, 4, 9, 2, 7, 3],\n",
       " [8, 3, 4, 2, 5, 1, 7, 6, 9],\n",
       " [8, 1, 7, 4, 3, 5, 2, 6, 9],\n",
       " [1, 2, 4, 9, 6, 3, 5, 8, 7],\n",
       " [6, 3, 4, 8, 5, 2, 9, 1, 7],\n",
       " [4, 1, 3, 6, 7, 5, 2, 9, 8],\n",
       " [5, 6, 1, 4, 3, 8, 7, 9, 2],\n",
       " [1, 7, 2, 8, 3, 6, 4, 9, 5],\n",
       " [4, 9, 2, 6, 1, 5, 3, 7, 8]]"
      ]
     },
     "execution_count": 33,
     "metadata": {},
     "output_type": "execute_result"
    }
   ],
   "source": [
    "ipop"
   ]
  },
  {
   "cell_type": "code",
   "execution_count": 34,
   "metadata": {},
   "outputs": [
    {
     "data": {
      "text/plain": [
       "[3, 7, 8, 4, 2, 5, 9, 1, 6]"
      ]
     },
     "execution_count": 34,
     "metadata": {},
     "output_type": "execute_result"
    }
   ],
   "source": [
    "selection(ipop)\n",
    "# Selecting a random route from ipop."
   ]
  },
  {
   "cell_type": "code",
   "execution_count": 40,
   "metadata": {},
   "outputs": [
    {
     "name": "stdout",
     "output_type": "stream",
     "text": [
      "Avg Fit of Gen 0 1459.075\n",
      "Gen 0 Best Route Fitness 1545 [8, 4, 5, 1, 3, 2, 6, 9, 7]\n",
      "Gen 1 Best Route Fitness 1570 [3, 1, 4, 9, 7, 8, 5, 6, 2]\n",
      "Avg Fit of Gen  1 = 1459.325\n",
      "Gen 2 Best Route Fitness 1583 [6, 4, 5, 1, 3, 2, 8, 9, 7]\n",
      "Gen 3 Best Route Fitness 1647 [1, 2, 3, 5, 4, 6, 8, 9, 7]\n",
      "Avg Fit of Gen  3 = 1468.475\n",
      "Avg Fit of Gen  4 = 1476.65\n",
      "Avg Fit of Gen  10 = 1477.475\n",
      "Avg Fit of Gen  14 = 1477.55\n",
      "Avg Fit of Gen  15 = 1479.625\n",
      "Avg Fit of Gen  17 = 1490.2\n",
      "Gen 29 Best Route Fitness 1653 [7, 8, 5, 9, 6, 4, 3, 1, 2]\n",
      "Gen 41 Best Route Fitness 1661 [2, 3, 1, 6, 8, 7, 9, 5, 4]\n",
      "Avg Fit of Gen  41 = 1506.95\n",
      "Avg Fit of Gen  89 = 1512.75\n",
      "Gen 93 Best Route Fitness 1663 [2, 1, 3, 4, 6, 7, 8, 5, 9]\n",
      "Gen 94 Best Route Fitness 1672 [2, 1, 3, 5, 4, 6, 8, 7, 9]\n",
      "Gen 95 Best Route Fitness 1694 [2, 1, 3, 4, 5, 6, 8, 7, 9]\n",
      "Avg Fit of Gen  95 = 1515.5\n",
      "Avg Fit of Gen  119 = 1519.075\n",
      "Avg Fit of Gen  143 = 1521.75\n",
      "Avg Fit of Gen  144 = 1526.625\n",
      "Gen 246 Best Route Fitness 1698 [1, 2, 3, 4, 5, 9, 8, 7, 6]\n",
      "Gen 693 Best Route Fitness 1704 [1, 2, 3, 4, 5, 6, 7, 8, 9]\n",
      "Gen 1000 Best Route Fitness 1712 [6, 7, 8, 9, 5, 4, 3, 1, 2]\n",
      "Gen 1000 Best Route Distance 288 [6, 7, 8, 9, 5, 4, 3, 1, 2]\n"
     ]
    }
   ],
   "source": [
    "GA_TSP(40,1000, 0.02, 0)\n",
    "# Finding the shortest path distance using 40 routes generated per generation, 1000 generations, and a mutation rate\n",
    "# of 0.02 (meaning that there is a 2% chance of a mutation occuring)."
   ]
  },
  {
   "cell_type": "code",
   "execution_count": null,
   "metadata": {},
   "outputs": [],
   "source": [
    "# The best route generated is [6,7,8,9,5,4,3,1,2] according to the above calculations, and is a distance of 288km.\n",
    "# If we run the program again:"
   ]
  },
  {
   "cell_type": "code",
   "execution_count": 41,
   "metadata": {},
   "outputs": [
    {
     "name": "stdout",
     "output_type": "stream",
     "text": [
      "Avg Fit of Gen 0 1463.025\n",
      "Gen 0 Best Route Fitness 1622 [1, 3, 4, 5, 8, 9, 7, 6, 2]\n",
      "Avg Fit of Gen  6 = 1463.8\n",
      "Gen 12 Best Route Fitness 1631 [1, 2, 3, 6, 9, 5, 4, 7, 8]\n",
      "Avg Fit of Gen  12 = 1482.025\n",
      "Avg Fit of Gen  14 = 1490.675\n",
      "Gen 38 Best Route Fitness 1664 [6, 8, 7, 1, 2, 3, 4, 5, 9]\n",
      "Avg Fit of Gen  101 = 1500.425\n",
      "Avg Fit of Gen  184 = 1504.075\n",
      "Gen 203 Best Route Fitness 1670 [2, 3, 1, 4, 5, 9, 6, 7, 8]\n",
      "Avg Fit of Gen  337 = 1506.35\n",
      "Avg Fit of Gen  365 = 1510.775\n",
      "Gen 371 Best Route Fitness 1684 [6, 8, 7, 9, 5, 4, 3, 2, 1]\n",
      "Avg Fit of Gen  371 = 1519.725\n",
      "Avg Fit of Gen  422 = 1520.825\n",
      "Avg Fit of Gen  428 = 1521.475\n",
      "Avg Fit of Gen  429 = 1538.125\n",
      "Gen 430 Best Route Fitness 1694 [6, 7, 8, 9, 5, 4, 3, 2, 1]\n",
      "Avg Fit of Gen  432 = 1541.875\n",
      "Gen 1000 Best Route Distance 306 [6, 7, 8, 9, 5, 4, 3, 2, 1]\n"
     ]
    }
   ],
   "source": [
    "GA_TSP(40,1000, 0.02, 0)"
   ]
  },
  {
   "cell_type": "code",
   "execution_count": 46,
   "metadata": {},
   "outputs": [],
   "source": [
    "# This time, we get the best route as [6,7,8,9,5,4,3,2,1], and it has a distance of 306km, which is a bit longer than\n",
    "# the previously attained route.\n",
    "# The genetic algorithm can never guarantee the shortest possible path; that would only be possible by checking\n",
    "# every single route possible, which would take an astronomical amount of time. The genetic algorithm, however, uses\n",
    "# a method inspired by evolution in which it constantly survives the routes with higher fitness functions to \n",
    "#'reproduce' and pass on their 'desirable genes' (survival of the fittest) to the next 'generation', along with \n",
    "# random mutations occuring along the way to make way for the possibility of a randomly generated, but better, route. "
   ]
  }
 ],
 "metadata": {
  "kernelspec": {
   "display_name": "Python 3",
   "language": "python",
   "name": "python3"
  },
  "language_info": {
   "codemirror_mode": {
    "name": "ipython",
    "version": 3
   },
   "file_extension": ".py",
   "mimetype": "text/x-python",
   "name": "python",
   "nbconvert_exporter": "python",
   "pygments_lexer": "ipython3",
   "version": "3.7.4"
  }
 },
 "nbformat": 4,
 "nbformat_minor": 2
}
